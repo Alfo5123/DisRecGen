{
 "cells": [
  {
   "cell_type": "code",
   "execution_count": 4,
   "metadata": {},
   "outputs": [],
   "source": [
    "import os\n",
    "import torch\n",
    "from torch import nn, optim\n",
    "from torch.nn import functional as F\n",
    "from torch.autograd import Variable"
   ]
  },
  {
   "cell_type": "code",
   "execution_count": 163,
   "metadata": {},
   "outputs": [],
   "source": [
    "class VAE(nn.Module):\n",
    "    def __init__(self, inp_size, hid_size, z_size):\n",
    "        super(VAE, self).__init__()\n",
    "        # Encoder\n",
    "        self.fc1 = nn.Linear(inp_size, hid_size)\n",
    "        self.drop1 = nn.Dropout(0.2)\n",
    "        \n",
    "        self.fc2 = nn.Linear(hid_size, hid_size)\n",
    "        self.drop2 = nn.Dropout(0.2)\n",
    "        \n",
    "        self.fc31 = nn.Linear(hid_size, z_size)\n",
    "        self.fc32 = nn.Linear(hid_size, z_size)\n",
    "        \n",
    "        # Decoder\n",
    "        self.fc4 = nn.Linear(z_size, hid_size)\n",
    "        self.drop4 = nn.Dropout(0.2)\n",
    "        \n",
    "        self.fc5 = nn.Linear(hid_size, hid_size)\n",
    "        self.drop5 = nn.Dropout(0.2)\n",
    "        \n",
    "        self.fc6 = nn.Linear(hid_size, inp_size)\n",
    "        \n",
    "    def encode(self, x):\n",
    "        h = self.drop1(F.relu(self.fc1(x)))\n",
    "        # h = self.drop2(F.relu(self.fc2(h)))\n",
    "        return self.fc31(h), self.fc32(h)\n",
    "    \n",
    "    def reparametrize(self, mu, logvar):\n",
    "        if self.training:\n",
    "            # logvar = log(sigma**2)\n",
    "            # logvar = 2 * log(sigma)\n",
    "            # sigma = exp(logvar/2)\n",
    "            std = logvar.mul(0.5).exp()\n",
    "            x = Variable(std.data.new(std.size()).normal_())\n",
    "            return x.mul(std).add(mu)\n",
    "        else:\n",
    "            return mu\n",
    "    \n",
    "    def decode(self, z):\n",
    "        h = self.drop4(F.relu(self.fc4(z)))\n",
    "        # h = self.drop5(F.relu(self.fc5(h)))\n",
    "        return F.sigmoid(self.fc6(h))\n",
    "    \n",
    "    def forward(self, x):\n",
    "        mu, logvar = self.encode(x)\n",
    "        z = self.reparametrize(mu, logvar)\n",
    "        return self.decode(z), mu, logvar            "
   ]
  },
  {
   "cell_type": "code",
   "execution_count": 164,
   "metadata": {},
   "outputs": [],
   "source": [
    "model = VAE(inp_size=784, hid_size=400, z_size=20)\n",
    "x_, mu, logvar = model(Variable(torch.randn(784)))"
   ]
  },
  {
   "cell_type": "code",
   "execution_count": 165,
   "metadata": {},
   "outputs": [],
   "source": [
    "def loss_function(x_, x, mu, logvar):\n",
    "    BCE = F.binary_cross_entropy(x_, x)\n",
    "    # KLD = -0.5 * sum(1 + log(sigma^2) - mu^2 - sigma^2)\n",
    "    KLD = -0.5 * torch.sum(1 + logvar - mu.pow(2) - logvar.exp())\n",
    "    return BCE + KLD / (len(x) * len(mu))"
   ]
  },
  {
   "cell_type": "code",
   "execution_count": 172,
   "metadata": {},
   "outputs": [],
   "source": [
    "import sys\n",
    "\n",
    "def train(epoch, model, optimizer, train_loader, feat_size):\n",
    "    model.train()\n",
    "    train_loss = 0\n",
    "    for batch_idx, (x, _) in enumerate(train_loader):\n",
    "        x = Variable(x.view(-1, feat_size))\n",
    "        optimizer.zero_grad()\n",
    "        x_, mu, logvar = model(x)\n",
    "        loss = loss_function(x_, x, mu, logvar)\n",
    "        loss.backward()\n",
    "        train_loss += loss.data[0]\n",
    "        optimizer.step()\n",
    "        \n",
    "        if batch_idx % 10 == 0:\n",
    "            sys.stdout.write(f'\\rTrain Epoch: {epoch + 1} '\n",
    "                f'[{(batch_idx) * len(x)}/{len(train_loader.dataset)} '\n",
    "                f'({100. * (batch_idx) / len(train_loader):.0f}%)]\\t'\n",
    "                f'Loss: {loss.data[0] / len(x):.6f}')\n",
    "            sys.stdout.flush()\n",
    "    print()\n",
    "    print(f'=====> Epoch: {epoch + 1} '\n",
    "          f'Average loss: {train_loss / len(train_loader.dataset):.4f}')"
   ]
  },
  {
   "cell_type": "code",
   "execution_count": 173,
   "metadata": {},
   "outputs": [],
   "source": [
    "def test(epoch, model, test_loader, feat_size):\n",
    "    model.eval()\n",
    "    test_loss = 0\n",
    "    for batch_idx, (x, _) in enumerate(test_loader):\n",
    "        x = Variable(x.view(-1, feat_size), volatile=True)\n",
    "        x_, mu, logvar = model(x)\n",
    "        loss = loss_function(x_, x, mu, logvar)\n",
    "        test_loss += loss.data[0]\n",
    "    print(f'====> Test set loss: {test_loss / len(test_loader.dataset):.4f}')"
   ]
  },
  {
   "cell_type": "code",
   "execution_count": 174,
   "metadata": {},
   "outputs": [],
   "source": [
    "from torchvision.utils import save_image\n",
    "from torchvision import datasets, transforms"
   ]
  },
  {
   "cell_type": "code",
   "execution_count": 175,
   "metadata": {},
   "outputs": [],
   "source": [
    "BATCH_SIZE = 128"
   ]
  },
  {
   "cell_type": "code",
   "execution_count": 176,
   "metadata": {},
   "outputs": [],
   "source": [
    "train_loader = torch.utils.data.DataLoader(\n",
    "    datasets.MNIST('data', train=True, download=True,\n",
    "                   transform=transforms.ToTensor()),\n",
    "    batch_size=BATCH_SIZE, shuffle=True)\n",
    "\n",
    "test_loader = torch.utils.data.DataLoader(\n",
    "    datasets.MNIST('data', train=False, \n",
    "                   transform=transforms.ToTensor()),\n",
    "    batch_size=BATCH_SIZE, shuffle=True)"
   ]
  },
  {
   "cell_type": "code",
   "execution_count": 177,
   "metadata": {},
   "outputs": [],
   "source": [
    "model = VAE(inp_size=784, hid_size=800, z_size=20)\n",
    "optimizer = optim.Adam(model.parameters(), lr=1e-3)"
   ]
  },
  {
   "cell_type": "code",
   "execution_count": 178,
   "metadata": {},
   "outputs": [
    {
     "name": "stdout",
     "output_type": "stream",
     "text": [
      "Train Epoch: 1 [60160/60000 (100%)]\tLoss: 0.001821\n",
      "=====> Epoch: 1 Average loss: 0.0020\n",
      "====> Test set loss: 0.0017\n",
      "Train Epoch: 2 [60160/60000 (100%)]\tLoss: 0.001786\n",
      "=====> Epoch: 2 Average loss: 0.0018\n",
      "====> Test set loss: 0.0016\n",
      "Train Epoch: 3 [60160/60000 (100%)]\tLoss: 0.001742\n",
      "=====> Epoch: 3 Average loss: 0.0018\n",
      "====> Test set loss: 0.0016\n",
      "Train Epoch: 4 [60160/60000 (100%)]\tLoss: 0.001774\n",
      "=====> Epoch: 4 Average loss: 0.0017\n",
      "====> Test set loss: 0.0016\n",
      "Train Epoch: 5 [60160/60000 (100%)]\tLoss: 0.001716\n",
      "=====> Epoch: 5 Average loss: 0.0017\n",
      "====> Test set loss: 0.0016\n",
      "Train Epoch: 6 [60160/60000 (100%)]\tLoss: 0.001713\n",
      "=====> Epoch: 6 Average loss: 0.0017\n",
      "====> Test set loss: 0.0016\n",
      "Train Epoch: 7 [60160/60000 (100%)]\tLoss: 0.001649\n",
      "=====> Epoch: 7 Average loss: 0.0017\n",
      "====> Test set loss: 0.0016\n",
      "Train Epoch: 8 [60160/60000 (100%)]\tLoss: 0.001682\n",
      "=====> Epoch: 8 Average loss: 0.0017\n",
      "====> Test set loss: 0.0015\n",
      "Train Epoch: 9 [60160/60000 (100%)]\tLoss: 0.001674\n",
      "=====> Epoch: 9 Average loss: 0.0017\n",
      "====> Test set loss: 0.0015\n",
      "Train Epoch: 10 [60160/60000 (100%)]\tLoss: 0.001622\n",
      "=====> Epoch: 10 Average loss: 0.0017\n",
      "====> Test set loss: 0.0015\n"
     ]
    }
   ],
   "source": [
    "for epoch in range(10):\n",
    "    train(epoch, model, optimizer, train_loader, 784)\n",
    "    test(epoch, model, test_loader, 784)\n",
    "    sample = Variable(torch.randn(BATCH_SIZE, 20))\n",
    "    sample = model.decode(sample)\n",
    "    save_image(sample.data.view(BATCH_SIZE, 1, 28, 28),\n",
    "               f'../../results/robert/sample_mnist_{epoch + 1}.png')"
   ]
  },
  {
   "cell_type": "code",
   "execution_count": null,
   "metadata": {},
   "outputs": [],
   "source": []
  }
 ],
 "metadata": {
  "kernelspec": {
   "display_name": "Python 3",
   "language": "python",
   "name": "python3"
  },
  "language_info": {
   "codemirror_mode": {
    "name": "ipython",
    "version": 3
   },
   "file_extension": ".py",
   "mimetype": "text/x-python",
   "name": "python",
   "nbconvert_exporter": "python",
   "pygments_lexer": "ipython3",
   "version": "3.6.3"
  }
 },
 "nbformat": 4,
 "nbformat_minor": 2
}
